{
  "nbformat": 4,
  "nbformat_minor": 0,
  "metadata": {
    "colab": {
      "provenance": [],
      "authorship_tag": "ABX9TyPU1r417A/fbIdHUtidoilQ",
      "include_colab_link": true
    },
    "kernelspec": {
      "name": "python3",
      "display_name": "Python 3"
    },
    "language_info": {
      "name": "python"
    }
  },
  "cells": [
    {
      "cell_type": "markdown",
      "metadata": {
        "id": "view-in-github",
        "colab_type": "text"
      },
      "source": [
        "<a href=\"https://colab.research.google.com/github/marinowars/Examen1/blob/main/Consumer_MIT_LIFT_LAB.ipynb\" target=\"_parent\"><img src=\"https://colab.research.google.com/assets/colab-badge.svg\" alt=\"Open In Colab\"/></a>"
      ]
    },
    {
      "cell_type": "code",
      "execution_count": null,
      "metadata": {
        "id": "AUBt-Ew35B3-"
      },
      "outputs": [],
      "source": [
        "#Importamos las librerías pandas, numpy y matplotlib respectivamente\n",
        "import pandas as pd\n",
        "import numpy as np\n",
        "import matplotlib.pyplot as plt"
      ]
    },
    {
      "cell_type": "code",
      "source": [
        "#Cargar archivo csv desde equipo\n",
        "from google.colab import files\n",
        "files.upload()"
      ],
      "metadata": {
        "id": "uCB-uwN_6k7W"
      },
      "execution_count": null,
      "outputs": []
    },
    {
      "cell_type": "code",
      "source": [
        "#Carga desde un archivo .xlsx sin indice\n",
        "Consumer= pd.read_excel(\"consumer_mit_lift_lab.xlsx\")"
      ],
      "metadata": {
        "id": "uzf0jkdl7Mup"
      },
      "execution_count": null,
      "outputs": []
    },
    {
      "cell_type": "code",
      "source": [
        "#Verificamos información del DataFrame\n",
        "Consumer.info()"
      ],
      "metadata": {
        "id": "gCzaBX218H5B"
      },
      "execution_count": null,
      "outputs": []
    },
    {
      "cell_type": "code",
      "source": [
        "#Imprimo los primeros 5 registros del dataframe\n",
        "Consumer.head()"
      ],
      "metadata": {
        "id": "YmlnLP338Pgq"
      },
      "execution_count": null,
      "outputs": []
    },
    {
      "cell_type": "markdown",
      "source": [
        "**VALORES NULOS**"
      ],
      "metadata": {
        "id": "iFGGFQ-ZP7GW"
      }
    },
    {
      "cell_type": "code",
      "source": [
        "#Identificar valores nulos por columna\n",
        "valores_nulos=Consumer.isnull().sum()\n",
        "valores_nulos"
      ],
      "metadata": {
        "id": "Sws13Ouc8wgh"
      },
      "execution_count": null,
      "outputs": []
    },
    {
      "cell_type": "code",
      "source": [
        "#Realizamos una copia del dataframe\n",
        "data1=Consumer.copy()\n",
        "data1"
      ],
      "metadata": {
        "id": "0be0hTKY9Xz_"
      },
      "execution_count": null,
      "outputs": []
    },
    {
      "cell_type": "code",
      "source": [
        "#Sustituir valores nulos por un string en concreto\n",
        "data1[\"300_did_not_find\"]=data1[\"300_did_not_find\"].fillna(\"insumo\")\n",
        "#Este método fue utilizado para llenar las celdas vacías dentro del dataframe por medio de un valor alfanumérico específico (string), ya\n",
        "#que la columna no contiene algún valor numérico."
      ],
      "metadata": {
        "id": "gL_a1u-p9qTd"
      },
      "execution_count": null,
      "outputs": []
    },
    {
      "cell_type": "code",
      "source": [
        "#Corroboramos valores nulos\n",
        "valores_nulos=data1.isnull().sum()\n",
        "valores_nulos"
      ],
      "metadata": {
        "id": "rvVc0HSe-B0L"
      },
      "execution_count": null,
      "outputs": []
    },
    {
      "cell_type": "code",
      "source": [
        "#Sustituir valores nulos por un string en concreto\n",
        "data1[\"284_additional_products_store\"]=data1[\"284_additional_products_store\"].fillna(\"x_producto\")\n",
        "#Este método fue utilizado para llenar las celdas vacías dentro del dataframe por medio de un valor alfanumérico específico (string), ya\n",
        "#que la columna no contiene algún valor numérico."
      ],
      "metadata": {
        "id": "wVhVUN8DBp_Q"
      },
      "execution_count": null,
      "outputs": []
    },
    {
      "cell_type": "code",
      "source": [
        "#Corroboramos valores nulos\n",
        "valores_nulos=data1.isnull().sum()\n",
        "valores_nulos"
      ],
      "metadata": {
        "id": "iTFov3VxDm3Q"
      },
      "execution_count": null,
      "outputs": []
    },
    {
      "cell_type": "code",
      "source": [
        "#Sustituir valores nulos por valores no nulos hacia atrás \"backward fill\" (\"bfill\")\n",
        "data1[\"305_electricity_bill_store\"]=data1[\"305_electricity_bill_store\"].fillna(method=\"bfill\")\n",
        "#movemos un valor no nulo dentro de la columna hacia abajo, con el fin de rellenar los valores nulos existentes dentro de la \n",
        "#columna del dataframe"
      ],
      "metadata": {
        "id": "XO_yUcSnEKNg"
      },
      "execution_count": null,
      "outputs": []
    },
    {
      "cell_type": "code",
      "source": [
        "#Corroboramos valores nulos\n",
        "valores_nulos=data1.isnull().sum()\n",
        "valores_nulos"
      ],
      "metadata": {
        "id": "55uA0hjbEhYm"
      },
      "execution_count": null,
      "outputs": []
    },
    {
      "cell_type": "code",
      "source": [
        "#Sustituir valores nulos por valores no nulos hacia atrás \"backward fill\" (\"bfill\")\n",
        "data1[\"306_water_bill_store\"]=data1[\"306_water_bill_store\"].fillna(method=\"bfill\")\n",
        "#movemos un valor no nulo dentro de la columna hacia abajo, con el fin de rellenar los valores nulos existentes dentro de la \n",
        "#columna del dataframe"
      ],
      "metadata": {
        "id": "XMEm23CVHSDI"
      },
      "execution_count": null,
      "outputs": []
    },
    {
      "cell_type": "code",
      "source": [
        "#Corroboramos valores nulos\n",
        "valores_nulos=data1.isnull().sum()\n",
        "valores_nulos"
      ],
      "metadata": {
        "id": "I4Z0XlXzHfgJ"
      },
      "execution_count": null,
      "outputs": []
    },
    {
      "cell_type": "code",
      "source": [
        "#Sustituir valores nulos por valores no nulos hacia adelante \"forward fill\" (\"ffill\")\n",
        "data1[\"307_gas_bill_store\"]=data1[\"307_gas_bill_store\"].fillna(method=\"ffill\")\n",
        "#movemos un valor no nulo dentro de la columna hacia arriba, con el fin de rellenar los valores nulos existentes dentro de la \n",
        "#columna del dataframe"
      ],
      "metadata": {
        "id": "-Z6IWdfcHjlt"
      },
      "execution_count": null,
      "outputs": []
    },
    {
      "cell_type": "code",
      "source": [
        "#Corroboramos valores nulos\n",
        "valores_nulos=data1.isnull().sum()\n",
        "valores_nulos"
      ],
      "metadata": {
        "colab": {
          "base_uri": "https://localhost:8080/"
        },
        "id": "D1BRhy24Mtdz",
        "outputId": "9f269e77-dbbc-4823-e597-b69934f4d163"
      },
      "execution_count": null,
      "outputs": [
        {
          "output_type": "execute_result",
          "data": {
            "text/plain": [
              "_record_id                                   0\n",
              "_title                                       0\n",
              "_server_updated_at                           0\n",
              "_updated_by                                  0\n",
              "_geometry                                    0\n",
              "_latitude                                    0\n",
              "_longitude                                   0\n",
              "282_payment_method_that_purchase             0\n",
              "283_fulfill_needs                            0\n",
              "300_did_not_find                             0\n",
              "237_distance_household_interviewee           0\n",
              "299_means_transportation_consumer            0\n",
              "238_frequency_buying_store                   0\n",
              "284_additional_products_store                0\n",
              "301_electricity_bill                         0\n",
              "305_electricity_bill_store                   0\n",
              "302_water_bill                               0\n",
              "306_water_bill_store                         0\n",
              "303_gas_bill                                 0\n",
              "307_gas_bill_store                           0\n",
              "286_topups                                   0\n",
              "308_topups_in_store                         12\n",
              "287_wire_transfers                           0\n",
              "309_wiretransfers_in_store                   2\n",
              "320_other_services_in_store                  0\n",
              "304_additional_services_store               86\n",
              "81_number_online_purchases_month             0\n",
              "288_number_app_purchases_month               0\n",
              "289_number_whatsapp_purchases_month          0\n",
              "83_willingness_ultrafast_delivery            0\n",
              "84_willingness_sameday_delivery              0\n",
              "241_age_of_the_interviewee                   0\n",
              "240_gender_interviewee                       0\n",
              "indicate_the_type_of_store                   0\n",
              "name_of_the_store                            0\n",
              "storefront_picture_just_once_if_possible    11\n",
              "dtype: int64"
            ]
          },
          "metadata": {},
          "execution_count": 17
        }
      ]
    },
    {
      "cell_type": "code",
      "source": [
        "#Sustituir valores nulos por valores no nulos hacia adelante \"forward fill\" (\"ffill\")\n",
        "data1[\"308_topups_in_store\"]=data1[\"308_topups_in_store\"].fillna(method=\"ffill\")\n",
        "#movemos un valor no nulo dentro de la columna hacia arriba, con el fin de rellenar los valores nulos existentes dentro de la \n",
        "#columna del dataframe"
      ],
      "metadata": {
        "id": "ADjqsL1NZ9fX"
      },
      "execution_count": null,
      "outputs": []
    },
    {
      "cell_type": "code",
      "source": [
        "#Corroboramos valores nulos\n",
        "valores_nulos=data1.isnull().sum()\n",
        "valores_nulos"
      ],
      "metadata": {
        "colab": {
          "base_uri": "https://localhost:8080/"
        },
        "id": "QKj1z0iIaI0b",
        "outputId": "9d583fe7-4a28-4968-e013-1febe6450856"
      },
      "execution_count": null,
      "outputs": [
        {
          "output_type": "execute_result",
          "data": {
            "text/plain": [
              "_record_id                                   0\n",
              "_title                                       0\n",
              "_server_updated_at                           0\n",
              "_updated_by                                  0\n",
              "_geometry                                    0\n",
              "_latitude                                    0\n",
              "_longitude                                   0\n",
              "282_payment_method_that_purchase             0\n",
              "283_fulfill_needs                            0\n",
              "300_did_not_find                             0\n",
              "237_distance_household_interviewee           0\n",
              "299_means_transportation_consumer            0\n",
              "238_frequency_buying_store                   0\n",
              "284_additional_products_store                0\n",
              "301_electricity_bill                         0\n",
              "305_electricity_bill_store                   0\n",
              "302_water_bill                               0\n",
              "306_water_bill_store                         0\n",
              "303_gas_bill                                 0\n",
              "307_gas_bill_store                           0\n",
              "286_topups                                   0\n",
              "308_topups_in_store                          0\n",
              "287_wire_transfers                           0\n",
              "309_wiretransfers_in_store                   2\n",
              "320_other_services_in_store                  0\n",
              "304_additional_services_store               86\n",
              "81_number_online_purchases_month             0\n",
              "288_number_app_purchases_month               0\n",
              "289_number_whatsapp_purchases_month          0\n",
              "83_willingness_ultrafast_delivery            0\n",
              "84_willingness_sameday_delivery              0\n",
              "241_age_of_the_interviewee                   0\n",
              "240_gender_interviewee                       0\n",
              "indicate_the_type_of_store                   0\n",
              "name_of_the_store                            0\n",
              "storefront_picture_just_once_if_possible    11\n",
              "dtype: int64"
            ]
          },
          "metadata": {},
          "execution_count": 19
        }
      ]
    },
    {
      "cell_type": "code",
      "source": [
        "#Sustituir valores nulos por valores no nulos hacia atrás \"backward fill\" (\"bfill\")\n",
        "data1[\"309_wiretransfers_in_store\"]=data1[\"309_wiretransfers_in_store\"].fillna(method=\"bfill\")\n",
        "#movemos un valor no nulo dentro de la columna hacia abajo, con el fin de rellenar los valores nulos existentes dentro de la \n",
        "#columna del dataframe"
      ],
      "metadata": {
        "id": "2ggOtlSLODgJ"
      },
      "execution_count": null,
      "outputs": []
    },
    {
      "cell_type": "code",
      "source": [
        "#Corroboramos valores nulos\n",
        "valores_nulos=data1.isnull().sum()\n",
        "valores_nulos"
      ],
      "metadata": {
        "colab": {
          "base_uri": "https://localhost:8080/"
        },
        "id": "4p_63M4bOSsh",
        "outputId": "2cb6087c-414e-4fe9-d921-c2ca1d334c88"
      },
      "execution_count": null,
      "outputs": [
        {
          "output_type": "execute_result",
          "data": {
            "text/plain": [
              "_record_id                                   0\n",
              "_title                                       0\n",
              "_server_updated_at                           0\n",
              "_updated_by                                  0\n",
              "_geometry                                    0\n",
              "_latitude                                    0\n",
              "_longitude                                   0\n",
              "282_payment_method_that_purchase             0\n",
              "283_fulfill_needs                            0\n",
              "300_did_not_find                             0\n",
              "237_distance_household_interviewee           0\n",
              "299_means_transportation_consumer            0\n",
              "238_frequency_buying_store                   0\n",
              "284_additional_products_store                0\n",
              "301_electricity_bill                         0\n",
              "305_electricity_bill_store                   0\n",
              "302_water_bill                               0\n",
              "306_water_bill_store                         0\n",
              "303_gas_bill                                 0\n",
              "307_gas_bill_store                           0\n",
              "286_topups                                   0\n",
              "308_topups_in_store                          0\n",
              "287_wire_transfers                           0\n",
              "309_wiretransfers_in_store                   0\n",
              "320_other_services_in_store                  0\n",
              "304_additional_services_store               86\n",
              "81_number_online_purchases_month             0\n",
              "288_number_app_purchases_month               0\n",
              "289_number_whatsapp_purchases_month          0\n",
              "83_willingness_ultrafast_delivery            0\n",
              "84_willingness_sameday_delivery              0\n",
              "241_age_of_the_interviewee                   0\n",
              "240_gender_interviewee                       0\n",
              "indicate_the_type_of_store                   0\n",
              "name_of_the_store                            0\n",
              "storefront_picture_just_once_if_possible    11\n",
              "dtype: int64"
            ]
          },
          "metadata": {},
          "execution_count": 21
        }
      ]
    },
    {
      "cell_type": "code",
      "source": [
        "#Sustituir valores nulos por un string en concreto\n",
        "data1[\"304_additional_services_store\"]=data1[\"304_additional_services_store\"].fillna(\"x_servicio\")\n",
        "#Este método fue utilizado para llenar las celdas vacías dentro del dataframe por medio de un valor alfanumérico específico (string), ya\n",
        "#que la columna no contiene algún valor numérico."
      ],
      "metadata": {
        "id": "iecFxrs4OaVB"
      },
      "execution_count": null,
      "outputs": []
    },
    {
      "cell_type": "code",
      "source": [
        "#Corroboramos valores nulos\n",
        "valores_nulos=data1.isnull().sum()\n",
        "valores_nulos"
      ],
      "metadata": {
        "colab": {
          "base_uri": "https://localhost:8080/"
        },
        "id": "XJmm8c3APTtM",
        "outputId": "8813e142-b671-482a-9777-37fdf5627bc8"
      },
      "execution_count": null,
      "outputs": [
        {
          "output_type": "execute_result",
          "data": {
            "text/plain": [
              "_record_id                                   0\n",
              "_title                                       0\n",
              "_server_updated_at                           0\n",
              "_updated_by                                  0\n",
              "_geometry                                    0\n",
              "_latitude                                    0\n",
              "_longitude                                   0\n",
              "282_payment_method_that_purchase             0\n",
              "283_fulfill_needs                            0\n",
              "300_did_not_find                             0\n",
              "237_distance_household_interviewee           0\n",
              "299_means_transportation_consumer            0\n",
              "238_frequency_buying_store                   0\n",
              "284_additional_products_store                0\n",
              "301_electricity_bill                         0\n",
              "305_electricity_bill_store                   0\n",
              "302_water_bill                               0\n",
              "306_water_bill_store                         0\n",
              "303_gas_bill                                 0\n",
              "307_gas_bill_store                           0\n",
              "286_topups                                   0\n",
              "308_topups_in_store                          0\n",
              "287_wire_transfers                           0\n",
              "309_wiretransfers_in_store                   0\n",
              "320_other_services_in_store                  0\n",
              "304_additional_services_store                0\n",
              "81_number_online_purchases_month             0\n",
              "288_number_app_purchases_month               0\n",
              "289_number_whatsapp_purchases_month          0\n",
              "83_willingness_ultrafast_delivery            0\n",
              "84_willingness_sameday_delivery              0\n",
              "241_age_of_the_interviewee                   0\n",
              "240_gender_interviewee                       0\n",
              "indicate_the_type_of_store                   0\n",
              "name_of_the_store                            0\n",
              "storefront_picture_just_once_if_possible    11\n",
              "dtype: int64"
            ]
          },
          "metadata": {},
          "execution_count": 24
        }
      ]
    },
    {
      "cell_type": "code",
      "source": [
        "#Sustituir valores nulos por un string en concreto\n",
        "data1[\"storefront_picture_just_once_if_possible\"]=data1[\"storefront_picture_just_once_if_possible\"].fillna(\"sin_imagen\")\n",
        "#Este método fue utilizado para llenar las celdas vacías dentro del dataframe por medio de un valor alfanumérico específico (string), ya\n",
        "#que la columna no contiene algún valor numérico."
      ],
      "metadata": {
        "id": "owxiM1oFPbgf"
      },
      "execution_count": null,
      "outputs": []
    },
    {
      "cell_type": "code",
      "source": [
        "#Corroboramos valores nulos\n",
        "valores_nulos=data1.isnull().sum()\n",
        "valores_nulos"
      ],
      "metadata": {
        "colab": {
          "base_uri": "https://localhost:8080/"
        },
        "id": "dpGsBy_HPocw",
        "outputId": "641e880e-e733-4261-b19f-6309049e5266"
      },
      "execution_count": null,
      "outputs": [
        {
          "output_type": "execute_result",
          "data": {
            "text/plain": [
              "_record_id                                  0\n",
              "_title                                      0\n",
              "_server_updated_at                          0\n",
              "_updated_by                                 0\n",
              "_geometry                                   0\n",
              "_latitude                                   0\n",
              "_longitude                                  0\n",
              "282_payment_method_that_purchase            0\n",
              "283_fulfill_needs                           0\n",
              "300_did_not_find                            0\n",
              "237_distance_household_interviewee          0\n",
              "299_means_transportation_consumer           0\n",
              "238_frequency_buying_store                  0\n",
              "284_additional_products_store               0\n",
              "301_electricity_bill                        0\n",
              "305_electricity_bill_store                  0\n",
              "302_water_bill                              0\n",
              "306_water_bill_store                        0\n",
              "303_gas_bill                                0\n",
              "307_gas_bill_store                          0\n",
              "286_topups                                  0\n",
              "308_topups_in_store                         0\n",
              "287_wire_transfers                          0\n",
              "309_wiretransfers_in_store                  0\n",
              "320_other_services_in_store                 0\n",
              "304_additional_services_store               0\n",
              "81_number_online_purchases_month            0\n",
              "288_number_app_purchases_month              0\n",
              "289_number_whatsapp_purchases_month         0\n",
              "83_willingness_ultrafast_delivery           0\n",
              "84_willingness_sameday_delivery             0\n",
              "241_age_of_the_interviewee                  0\n",
              "240_gender_interviewee                      0\n",
              "indicate_the_type_of_store                  0\n",
              "name_of_the_store                           0\n",
              "storefront_picture_just_once_if_possible    0\n",
              "dtype: int64"
            ]
          },
          "metadata": {},
          "execution_count": 32
        }
      ]
    },
    {
      "cell_type": "code",
      "source": [
        "#Corroboramos valores nulos en todo el dataframe\n",
        "valores_nulos=data1.isnull().sum().sum()\n",
        "valores_nulos\n",
        "#se hace una última revisión en búsqueda de algún valor nulo que se pudo haber pasado por alto"
      ],
      "metadata": {
        "id": "OXmxOKmlPsF9"
      },
      "execution_count": null,
      "outputs": []
    },
    {
      "cell_type": "markdown",
      "source": [
        "**OUTLIERS**\n"
      ],
      "metadata": {
        "id": "LaltPlQxP_BL"
      }
    },
    {
      "cell_type": "code",
      "source": [
        "#Realizamos diagrama de caja o bigote de cada columna del dataframe\n",
        "fig = plt.figure(figsize =(15,8))\n",
        "data1.plot(kind=\"box\", vert=False)\n",
        "plt.title(\"Valores Atípicos del Dataframe\")\n",
        "plt.show() #dibujamos el diagrama"
      ],
      "metadata": {
        "colab": {
          "base_uri": "https://localhost:8080/",
          "height": 299
        },
        "id": "CpU7J4Asmxab",
        "outputId": "82883733-322b-4a26-8738-c0e6b97ed210"
      },
      "execution_count": 64,
      "outputs": [
        {
          "output_type": "display_data",
          "data": {
            "text/plain": [
              "<Figure size 1080x576 with 0 Axes>"
            ]
          },
          "metadata": {}
        },
        {
          "output_type": "display_data",
          "data": {
            "text/plain": [
              "<Figure size 432x288 with 1 Axes>"
            ],
            "image/png": "[encoded data removed]"
          },
          "metadata": {
            "needs_background": "light"
          }
        }
      ]
    },
    {
      "cell_type": "code",
      "source": [
        "#Método aplicando Cuartiles. Encuentro cuartiles 0.25 y 0.75\n",
        "y=data1[\"241_age_of_the_interviewee\"]\n",
        "\n",
        "percentile25=y.quantile(0.25) #Q1\n",
        "percentile75=y.quantile(0.75) #Q2\n",
        "iqr= percentile75 - percentile25\n",
        "\n",
        "Limite_Superior_iqr= percentile75 + 1.5*iqr\n",
        "Limite_Inferior_iqr= percentile25 - 1.5*iqr\n",
        "print(\"Limite superior permitido\", Limite_Superior_iqr)\n",
        "print(\"Limite inferior permitido\", Limite_Inferior_iqr)"
      ],
      "metadata": {
        "colab": {
          "base_uri": "https://localhost:8080/"
        },
        "id": "wKrJ3-6mm8hI",
        "outputId": "a42755ee-6077-4269-ff96-72b2bffbfcf1"
      },
      "execution_count": 65,
      "outputs": [
        {
          "output_type": "stream",
          "name": "stdout",
          "text": [
            "Limite superior permitido 65.0\n",
            "Limite inferior permitido -7.0\n"
          ]
        }
      ]
    },
    {
      "cell_type": "code",
      "source": [
        "#Encontramos Outliers\n",
        "outliers_iqr= data1[(y>Limite_Superior_iqr)|(y<Limite_Inferior_iqr)]\n",
        "outliers_iqr"
      ],
      "metadata": {
        "id": "bjjCX7ODnIGi"
      },
      "execution_count": null,
      "outputs": []
    },
    {
      "cell_type": "code",
      "source": [
        "#Obtenemos datos limpios\n",
        "data_clean_iqr= data1[(y<=Limite_Superior_iqr)&(y>=Limite_Inferior_iqr)]\n",
        "data_clean_iqr"
      ],
      "metadata": {
        "id": "1txUYdc5nNfD"
      },
      "execution_count": null,
      "outputs": []
    },
    {
      "cell_type": "code",
      "source": [
        "#Realizamos diagrama de caja o bigote\n",
        "fig= plt.figure(figsize =(5,3))\n",
        "plt.boxplot(data_clean_iqr[\"241_age_of_the_interviewee\"])\n",
        "plt.title(\"Outliers de Edad del entrevistado\")\n",
        "plt.show() #dibujamos el diagrama"
      ],
      "metadata": {
        "colab": {
          "base_uri": "https://localhost:8080/",
          "height": 227
        },
        "id": "vcshhXBioDUN",
        "outputId": "61f0f6ac-a3fc-4fe9-b0e0-d298e9fb469f"
      },
      "execution_count": 69,
      "outputs": [
        {
          "output_type": "display_data",
          "data": {
            "text/plain": [
              "<Figure size 360x216 with 1 Axes>"
            ],
            "image/png": "[encoded data removed]"
          },
          "metadata": {
            "needs_background": "light"
          }
        }
      ]
    },
    {
      "cell_type": "code",
      "source": [
        "#Método aplicando Cuartiles. Encuentro cuartiles 0.25 y 0.75\n",
        "y=data1[\"84_willingness_sameday_delivery\"]\n",
        "\n",
        "percentile25=y.quantile(0.25) #Q1\n",
        "percentile75=y.quantile(0.75) #Q2\n",
        "iqr= percentile75 - percentile25\n",
        "\n",
        "Limite_Superior_iqr= percentile75 + 1.5*iqr\n",
        "Limite_Inferior_iqr= percentile25 - 1.5*iqr\n",
        "print(\"Limite superior permitido\", Limite_Superior_iqr)\n",
        "print(\"Limite inferior permitido\", Limite_Inferior_iqr)"
      ],
      "metadata": {
        "colab": {
          "base_uri": "https://localhost:8080/"
        },
        "id": "5sgI9m5koaG1",
        "outputId": "ad46976f-f171-4689-d943-4c96d6795ee1"
      },
      "execution_count": 70,
      "outputs": [
        {
          "output_type": "stream",
          "name": "stdout",
          "text": [
            "Limite superior permitido 231.25\n",
            "Limite inferior permitido -118.75\n"
          ]
        }
      ]
    },
    {
      "cell_type": "code",
      "source": [
        "#Encontramos Outliers\n",
        "outliers_iqr= data1[(y>Limite_Superior_iqr)|(y<Limite_Inferior_iqr)]\n",
        "outliers_iqr"
      ],
      "metadata": {
        "id": "t2EZAPGVo6c-"
      },
      "execution_count": null,
      "outputs": []
    },
    {
      "cell_type": "code",
      "source": [
        "#Obtenemos datos limpios\n",
        "data_clean_iqr= data1[(y<=Limite_Superior_iqr)&(y>=Limite_Inferior_iqr)]\n",
        "data_clean_iqr"
      ],
      "metadata": {
        "id": "9XaHVmYWo9uo"
      },
      "execution_count": null,
      "outputs": []
    },
    {
      "cell_type": "code",
      "source": [
        "#Realizamos diagrama de caja o bigote\n",
        "fig= plt.figure(figsize =(5,3))\n",
        "plt.boxplot(data_clean_iqr[\"84_willingness_sameday_delivery\"])\n",
        "plt.title(\"Outliers de disponibilidad para entregar el mismo día\")\n",
        "plt.show() #dibujamos el diagrama"
      ],
      "metadata": {
        "colab": {
          "base_uri": "https://localhost:8080/",
          "height": 227
        },
        "id": "2YHgskjbpBQh",
        "outputId": "a34a7200-adbf-49e5-ebf0-78ec9ac03dcf"
      },
      "execution_count": 76,
      "outputs": [
        {
          "output_type": "display_data",
          "data": {
            "text/plain": [
              "<Figure size 360x216 with 1 Axes>"
            ],
            "image/png": "[encoded data removed]"
          },
          "metadata": {
            "needs_background": "light"
          }
        }
      ]
    },
    {
      "cell_type": "code",
      "source": [
        "#Método aplicando Cuartiles. Encuentro cuartiles 0.25 y 0.75\n",
        "y=data1[\"83_willingness_ultrafast_delivery\"]\n",
        "\n",
        "percentile25=y.quantile(0.25) #Q1\n",
        "percentile75=y.quantile(0.75) #Q2\n",
        "iqr= percentile75 - percentile25\n",
        "\n",
        "Limite_Superior_iqr= percentile75 + 1.5*iqr\n",
        "Limite_Inferior_iqr= percentile25 - 1.5*iqr\n",
        "print(\"Limite superior permitido\", Limite_Superior_iqr)\n",
        "print(\"Limite inferior permitido\", Limite_Inferior_iqr)"
      ],
      "metadata": {
        "colab": {
          "base_uri": "https://localhost:8080/"
        },
        "id": "rmywlkyNp02X",
        "outputId": "68f8f4fd-ff9e-4294-f7ba-5c3bbafcd93f"
      },
      "execution_count": 77,
      "outputs": [
        {
          "output_type": "stream",
          "name": "stdout",
          "text": [
            "Limite superior permitido 102.5\n",
            "Limite inferior permitido -37.5\n"
          ]
        }
      ]
    },
    {
      "cell_type": "code",
      "source": [
        "#Encontramos Outliers\n",
        "outliers_iqr= data1[(y>Limite_Superior_iqr)|(y<Limite_Inferior_iqr)]\n",
        "outliers_iqr"
      ],
      "metadata": {
        "id": "VuvfV7NZqAFK"
      },
      "execution_count": null,
      "outputs": []
    },
    {
      "cell_type": "code",
      "source": [
        "#Obtenemos datos limpios\n",
        "data_clean_iqr= data1[(y<=Limite_Superior_iqr)&(y>=Limite_Inferior_iqr)]\n",
        "data_clean_iqr"
      ],
      "metadata": {
        "id": "9cXsx1ABqDMT"
      },
      "execution_count": null,
      "outputs": []
    },
    {
      "cell_type": "code",
      "source": [
        "#Realizamos diagrama de caja o bigote\n",
        "fig= plt.figure(figsize =(5,3))\n",
        "plt.boxplot(data_clean_iqr[\"83_willingness_ultrafast_delivery\"])\n",
        "plt.title(\"Outliers de disponibilidad para entrega súper rápida\")\n",
        "plt.show() #dibujamos el diagrama"
      ],
      "metadata": {
        "colab": {
          "base_uri": "https://localhost:8080/",
          "height": 227
        },
        "id": "Muvat0-CqGEK",
        "outputId": "b2e40d8d-c767-4426-f905-aceb46ff8567"
      },
      "execution_count": 82,
      "outputs": [
        {
          "output_type": "display_data",
          "data": {
            "text/plain": [
              "<Figure size 360x216 with 1 Axes>"
            ],
            "image/png": "[encoded data removed]"
          },
          "metadata": {
            "needs_background": "light"
          }
        }
      ]
    },
    {
      "cell_type": "code",
      "source": [
        "#Método aplicando Cuartiles. Encuentro cuartiles 0.25 y 0.75\n",
        "y=data1[\"289_number_whatsapp_purchases_month\"]\n",
        "\n",
        "percentile25=y.quantile(0.25) #Q1\n",
        "percentile75=y.quantile(0.75) #Q2\n",
        "iqr= percentile75 - percentile25\n",
        "\n",
        "Limite_Superior_iqr= percentile75 + 1.5*iqr\n",
        "Limite_Inferior_iqr= percentile25 - 1.5*iqr\n",
        "print(\"Limite superior permitido\", Limite_Superior_iqr)\n",
        "print(\"Limite inferior permitido\", Limite_Inferior_iqr)"
      ],
      "metadata": {
        "colab": {
          "base_uri": "https://localhost:8080/"
        },
        "id": "5DpS-TrqrFRL",
        "outputId": "598da162-2e6a-4df0-dfcc-d38325f46929"
      },
      "execution_count": 93,
      "outputs": [
        {
          "output_type": "stream",
          "name": "stdout",
          "text": [
            "Limite superior permitido 2.5\n",
            "Limite inferior permitido -1.5\n"
          ]
        }
      ]
    },
    {
      "cell_type": "code",
      "source": [
        "#Encontramos Outliers\n",
        "outliers_iqr= data1[(y>Limite_Superior_iqr)|(y<Limite_Inferior_iqr)]\n",
        "outliers_iqr"
      ],
      "metadata": {
        "id": "e_GtmegAsL3h"
      },
      "execution_count": null,
      "outputs": []
    },
    {
      "cell_type": "code",
      "source": [
        "#Obtenemos datos limpios\n",
        "data_clean_iqr= data1[(y<=Limite_Superior_iqr)&(y>=Limite_Inferior_iqr)]\n",
        "data_clean_iqr"
      ],
      "metadata": {
        "id": "tJAldSdNsOpG"
      },
      "execution_count": null,
      "outputs": []
    },
    {
      "cell_type": "code",
      "source": [
        "#Realizamos diagrama de caja o bigote\n",
        "fig= plt.figure(figsize =(5,3))\n",
        "plt.boxplot(data_clean_iqr[\"289_number_whatsapp_purchases_month\"])\n",
        "plt.title(\"Outliers de numero de ventas por Whatsapp\")\n",
        "plt.show() #dibujamos el diagrama"
      ],
      "metadata": {
        "colab": {
          "base_uri": "https://localhost:8080/",
          "height": 227
        },
        "id": "a5iub0lvsR_r",
        "outputId": "7d476617-5dc2-4167-dff1-840c11185709"
      },
      "execution_count": 100,
      "outputs": [
        {
          "output_type": "display_data",
          "data": {
            "text/plain": [
              "<Figure size 360x216 with 1 Axes>"
            ],
            "image/png": "[encoded data removed]"
          },
          "metadata": {
            "needs_background": "light"
          }
        }
      ]
    },
    {
      "cell_type": "code",
      "source": [
        "#Método aplicando Cuartiles. Encuentro cuartiles 0.25 y 0.75\n",
        "y=data1[\"288_number_app_purchases_month\"]\n",
        "\n",
        "percentile25=y.quantile(0.25) #Q1\n",
        "percentile75=y.quantile(0.75) #Q2\n",
        "iqr= percentile75 - percentile25\n",
        "\n",
        "Limite_Superior_iqr= percentile75 + 1.5*iqr\n",
        "Limite_Inferior_iqr= percentile25 - 1.5*iqr\n",
        "print(\"Limite superior permitido\", Limite_Superior_iqr)\n",
        "print(\"Limite inferior permitido\", Limite_Inferior_iqr)"
      ],
      "metadata": {
        "colab": {
          "base_uri": "https://localhost:8080/"
        },
        "id": "qRsmT0GBtDtg",
        "outputId": "8d9a5200-775b-4bb9-80e8-8fd4f5e6bf8e"
      },
      "execution_count": 87,
      "outputs": [
        {
          "output_type": "stream",
          "name": "stdout",
          "text": [
            "Limite superior permitido 12.5\n",
            "Limite inferior permitido -7.5\n"
          ]
        }
      ]
    },
    {
      "cell_type": "code",
      "source": [
        "#Encontramos Outliers\n",
        "outliers_iqr= data1[(y>Limite_Superior_iqr)|(y<Limite_Inferior_iqr)]\n",
        "outliers_iqr"
      ],
      "metadata": {
        "id": "Pso-RF-0tUIq"
      },
      "execution_count": null,
      "outputs": []
    },
    {
      "cell_type": "code",
      "source": [
        "#Obtenemos datos limpios\n",
        "data_clean_iqr= data1[(y<=Limite_Superior_iqr)&(y>=Limite_Inferior_iqr)]\n",
        "data_clean_iqr"
      ],
      "metadata": {
        "id": "cayLrUaTtZhe"
      },
      "execution_count": null,
      "outputs": []
    },
    {
      "cell_type": "code",
      "source": [
        "#Realizamos diagrama de caja o bigote\n",
        "fig= plt.figure(figsize =(5,3))\n",
        "plt.boxplot(data_clean_iqr[\"288_number_app_purchases_month\"])\n",
        "plt.title(\"Outliers de numero de ventas por aplicación\")\n",
        "plt.show() #dibujamos el diagrama"
      ],
      "metadata": {
        "colab": {
          "base_uri": "https://localhost:8080/",
          "height": 227
        },
        "id": "6GZutGIYt1lO",
        "outputId": "3bfe510a-0d68-4400-fc89-24018a04402c"
      },
      "execution_count": 101,
      "outputs": [
        {
          "output_type": "display_data",
          "data": {
            "text/plain": [
              "<Figure size 360x216 with 1 Axes>"
            ],
            "image/png": "[encoded data removed]"
          },
          "metadata": {
            "needs_background": "light"
          }
        }
      ]
    },
    {
      "cell_type": "code",
      "source": [
        "#Método aplicando Cuartiles. Encuentro cuartiles 0.25 y 0.75\n",
        "y=data1[\"81_number_online_purchases_month\"]\n",
        "\n",
        "percentile25=y.quantile(0.25) #Q1\n",
        "percentile75=y.quantile(0.75) #Q2\n",
        "iqr= percentile75 - percentile25\n",
        "\n",
        "Limite_Superior_iqr= percentile75 + 1.5*iqr\n",
        "Limite_Inferior_iqr= percentile25 - 1.5*iqr\n",
        "print(\"Limite superior permitido\", Limite_Superior_iqr)\n",
        "print(\"Limite inferior permitido\", Limite_Inferior_iqr)"
      ],
      "metadata": {
        "colab": {
          "base_uri": "https://localhost:8080/"
        },
        "id": "WsYyEcIj_iOd",
        "outputId": "bb18a1b3-a770-4e3a-933d-5a6a2ad23add"
      },
      "execution_count": 104,
      "outputs": [
        {
          "output_type": "stream",
          "name": "stdout",
          "text": [
            "Limite superior permitido 6.0\n",
            "Limite inferior permitido -2.0\n"
          ]
        }
      ]
    },
    {
      "cell_type": "code",
      "source": [
        "#Encontramos Outliers\n",
        "outliers_iqr= data1[(y>Limite_Superior_iqr)|(y<Limite_Inferior_iqr)]\n",
        "outliers_iqr"
      ],
      "metadata": {
        "id": "qrVFT3Rz_zXK"
      },
      "execution_count": null,
      "outputs": []
    },
    {
      "cell_type": "code",
      "source": [
        "#Obtenemos datos limpios\n",
        "data_clean_iqr= data1[(y<=Limite_Superior_iqr)&(y>=Limite_Inferior_iqr)]\n",
        "data_clean_iqr"
      ],
      "metadata": {
        "id": "UQp2ph1d_2uG"
      },
      "execution_count": null,
      "outputs": []
    },
    {
      "cell_type": "code",
      "source": [
        "#Realizamos diagrama de caja o bigote\n",
        "fig= plt.figure(figsize =(5,3))\n",
        "plt.boxplot(data_clean_iqr[\"81_number_online_purchases_month\"])\n",
        "plt.title(\"Outliers de numero de ventas online\")\n",
        "plt.show() #dibujamos el diagrama"
      ],
      "metadata": {
        "id": "0ToviDObAEwZ"
      },
      "execution_count": null,
      "outputs": []
    },
    {
      "cell_type": "code",
      "source": [
        "#Método aplicando Cuartiles. Encuentro cuartiles 0.25 y 0.75\n",
        "y=data1[\"238_frequency_buying_store\"]\n",
        "\n",
        "percentile25=y.quantile(0.25) #Q1\n",
        "percentile75=y.quantile(0.75) #Q2\n",
        "iqr= percentile75 - percentile25\n",
        "\n",
        "Limite_Superior_iqr= percentile75 + 1.5*iqr\n",
        "Limite_Inferior_iqr= percentile25 - 1.5*iqr\n",
        "print(\"Limite superior permitido\", Limite_Superior_iqr)\n",
        "print(\"Limite inferior permitido\", Limite_Inferior_iqr)"
      ],
      "metadata": {
        "colab": {
          "base_uri": "https://localhost:8080/"
        },
        "id": "vxB_6yvUARcN",
        "outputId": "9623b97d-d46e-42c0-801a-5a15d06e9a70"
      },
      "execution_count": 103,
      "outputs": [
        {
          "output_type": "stream",
          "name": "stdout",
          "text": [
            "Limite superior permitido 6.0\n",
            "Limite inferior permitido -2.0\n"
          ]
        }
      ]
    },
    {
      "cell_type": "code",
      "source": [
        "#Encontramos Outliers\n",
        "outliers_iqr= data1[(y>Limite_Superior_iqr)|(y<Limite_Inferior_iqr)]\n",
        "outliers_iqr"
      ],
      "metadata": {
        "id": "nR2URjU4Alpd"
      },
      "execution_count": null,
      "outputs": []
    },
    {
      "cell_type": "code",
      "source": [
        "#Obtenemos datos limpios\n",
        "data_clean_iqr= data1[(y<=Limite_Superior_iqr)&(y>=Limite_Inferior_iqr)]\n",
        "data_clean_iqr"
      ],
      "metadata": {
        "id": "HiGvUiUtAoXp"
      },
      "execution_count": null,
      "outputs": []
    },
    {
      "cell_type": "code",
      "source": [
        "#Realizamos diagrama de caja o bigote\n",
        "fig= plt.figure(figsize =(5,3))\n",
        "plt.boxplot(data_clean_iqr[\"238_frequency_buying_store\"])\n",
        "plt.title(\"Outliers de frecuencia de venta\")\n",
        "plt.show() #dibujamos el diagrama"
      ],
      "metadata": {
        "colab": {
          "base_uri": "https://localhost:8080/",
          "height": 227
        },
        "id": "M4yy-UDpAriy",
        "outputId": "71454def-f9ed-462e-a9ff-5b8395b1eaf4"
      },
      "execution_count": 107,
      "outputs": [
        {
          "output_type": "display_data",
          "data": {
            "text/plain": [
              "<Figure size 360x216 with 1 Axes>"
            ],
            "image/png": "[encoded data removed]"
          },
          "metadata": {
            "needs_background": "light"
          }
        }
      ]
    },
    {
      "cell_type": "code",
      "source": [
        "#Convertir DataFrame a CSV\n",
        "data1.to_csv(\"Consumer_mit_lift_lab_datos_limpios.csv\")"
      ],
      "metadata": {
        "id": "HJyNQmOiWMCt"
      },
      "execution_count": 108,
      "outputs": []
    },
    {
      "cell_type": "code",
      "source": [
        "#descargar archivo filtrado en csv\n",
        "from google.colab import files\n",
        "\n",
        "files.download(\"Consumer_mit_lift_lab_datos_limpios.csv\")"
      ],
      "metadata": {
        "colab": {
          "base_uri": "https://localhost:8080/",
          "height": 17
        },
        "id": "ru0nOGhCWkAU",
        "outputId": "b644f0ba-b569-4a22-e4bd-4193d08b9993"
      },
      "execution_count": 109,
      "outputs": [
        {
          "output_type": "display_data",
          "data": {
            "text/plain": [
              "<IPython.core.display.Javascript object>"
            ],
            "application/javascript": [
              "\n",
              "    async function download(id, filename, size) {\n",
              "      if (!google.colab.kernel.accessAllowed) {\n",
              "        return;\n",
              "      }\n",
              "      const div = document.createElement('div');\n",
              "      const label = document.createElement('label');\n",
              "      label.textContent = `Downloading \"${filename}\": `;\n",
              "      div.appendChild(label);\n",
              "      const progress = document.createElement('progress');\n",
              "      progress.max = size;\n",
              "      div.appendChild(progress);\n",
              "      document.body.appendChild(div);\n",
              "\n",
              "      const buffers = [];\n",
              "      let downloaded = 0;\n",
              "\n",
              "      const channel = await google.colab.kernel.comms.open(id);\n",
              "      // Send a message to notify the kernel that we're ready.\n",
              "      channel.send({})\n",
              "\n",
              "      for await (const message of channel.messages) {\n",
              "        // Send a message to notify the kernel that we're ready.\n",
              "        channel.send({})\n",
              "        if (message.buffers) {\n",
              "          for (const buffer of message.buffers) {\n",
              "            buffers.push(buffer);\n",
              "            downloaded += buffer.byteLength;\n",
              "            progress.value = downloaded;\n",
              "          }\n",
              "        }\n",
              "      }\n",
              "      const blob = new Blob(buffers, {type: 'application/binary'});\n",
              "      const a = document.createElement('a');\n",
              "      a.href = window.URL.createObjectURL(blob);\n",
              "      a.download = filename;\n",
              "      div.appendChild(a);\n",
              "      a.click();\n",
              "      div.remove();\n",
              "    }\n",
              "  "
            ]
          },
          "metadata": {}
        },
        {
          "output_type": "display_data",
          "data": {
            "text/plain": [
              "<IPython.core.display.Javascript object>"
            ],
            "application/javascript": [
              "download(\"download_5c59bb7e-dcb2-41be-adc3-c56f4419fb2f\", \"Consumer_mit_lift_lab_datos_limpios.csv\", 53271)"
            ]
          },
          "metadata": {}
        }
      ]
    }
  ]
}