{
  "nbformat": 4,
  "nbformat_minor": 0,
  "metadata": {
    "colab": {
      "provenance": [],
      "authorship_tag": "ABX9TyO1R8wS1GS4s8ZgZb7g2Ei7",
      "include_colab_link": true
    },
    "kernelspec": {
      "name": "python3",
      "display_name": "Python 3"
    },
    "language_info": {
      "name": "python"
    }
  },
  "cells": [
    {
      "cell_type": "markdown",
      "metadata": {
        "id": "view-in-github",
        "colab_type": "text"
      },
      "source": [
        "<a href=\"https://colab.research.google.com/github/marinowars/Examen1/blob/main/Lastmile_delivery_operations_mit_lift_lab.ipynb\" target=\"_parent\"><img src=\"https://colab.research.google.com/assets/colab-badge.svg\" alt=\"Open In Colab\"/></a>"
      ]
    },
    {
      "cell_type": "code",
      "execution_count": 45,
      "metadata": {
        "id": "VU1MqQ_6bddW"
      },
      "outputs": [],
      "source": [
        "#Importamos las librerías pandas, numpy y matplotlib respectivamente\n",
        "import pandas as pd\n",
        "import numpy as np\n",
        "import matplotlib.pyplot as plt"
      ]
    },
    {
      "cell_type": "code",
      "source": [
        "#Cargar archivo csv desde equipo\n",
        "from google.colab import files\n",
        "files.upload()"
      ],
      "metadata": {
        "id": "saleHunob1d9"
      },
      "execution_count": null,
      "outputs": []
    },
    {
      "cell_type": "code",
      "source": [
        "#Carga desde un archivo .xlsx sin indice\n",
        "Delivery= pd.read_csv(\"lastmile_delivery_operations_mit_lift_lab.csv\")"
      ],
      "metadata": {
        "id": "8CLRej-Bb7mC"
      },
      "execution_count": 47,
      "outputs": []
    },
    {
      "cell_type": "code",
      "source": [
        "#Verificamos información del DataFrame\n",
        "Delivery.info()"
      ],
      "metadata": {
        "id": "YFG9tI4gcIBO"
      },
      "execution_count": null,
      "outputs": []
    },
    {
      "cell_type": "code",
      "source": [
        "#Imprimo los primeros 5 registros del dataframe\n",
        "Delivery.head()"
      ],
      "metadata": {
        "id": "PHOu7QJjcMYb"
      },
      "execution_count": null,
      "outputs": []
    },
    {
      "cell_type": "markdown",
      "source": [
        "**VALORES NULOS**"
      ],
      "metadata": {
        "id": "wnrz7SV1cRY_"
      }
    },
    {
      "cell_type": "code",
      "source": [
        "#Identificar valores nulos por columna\n",
        "valores_nulos=Delivery.isnull().sum()\n",
        "valores_nulos"
      ],
      "metadata": {
        "id": "Wj6w_KCNcTgw"
      },
      "execution_count": null,
      "outputs": []
    },
    {
      "cell_type": "code",
      "source": [
        "#Realizamos una copia del dataframe\n",
        "data1=Delivery.copy()\n",
        "data1"
      ],
      "metadata": {
        "id": "V7NDgwv3cl-9"
      },
      "execution_count": null,
      "outputs": []
    },
    {
      "cell_type": "code",
      "source": [
        "#Sustituir valores nulos por un string en concreto\n",
        "data1[\"_title\"]=data1[\"_title\"].fillna(\"Sin Título\")\n",
        "#Este método fue utilizado para llenar las celdas vacías dentro del dataframe por medio de un valor alfanumérico específico (string), ya\n",
        "#que la columna no contiene algún valor numérico."
      ],
      "metadata": {
        "id": "UB5RjuiNcrzh"
      },
      "execution_count": 52,
      "outputs": []
    },
    {
      "cell_type": "code",
      "source": [
        "#Corroboramos valores nulos\n",
        "valores_nulos=data1.isnull().sum()\n",
        "valores_nulos"
      ],
      "metadata": {
        "colab": {
          "base_uri": "https://localhost:8080/"
        },
        "id": "ktwkg1A3c7CT",
        "outputId": "5afeadf4-1030-4e39-e68e-63208a422987"
      },
      "execution_count": 53,
      "outputs": [
        {
          "output_type": "execute_result",
          "data": {
            "text/plain": [
              "_record_id                                         0\n",
              "_title                                             0\n",
              "_server_updated_at                                 0\n",
              "_updated_by                                        0\n",
              "_geometry                                          0\n",
              "_latitude                                          0\n",
              "_longitude                                         0\n",
              "arrival_of_the_freight_vehicle                     0\n",
              "plates                                             1\n",
              "company_if_visible                                73\n",
              "visit_purpose                                      0\n",
              "type_of_vehicle                                    0\n",
              "number_of_operators                                0\n",
              "refrigerated_truck                                 0\n",
              "type_of_cargo                                      0\n",
              "picture_of_the_parked_freight_vehicle              0\n",
              "departure_of_the_freight_vehicle                   0\n",
              "where_was_the_vehicle_parked                       0\n",
              "while_parked_was_the_engine_running                0\n",
              "used_traffic_cone                                  0\n",
              "vehicles_unloading_door                            0\n",
              "number_of_available_trolleys                       0\n",
              "serving_customer                                 147\n",
              "garage_blocking                                    0\n",
              "accident                                           0\n",
              "describe_the_accident                            182\n",
              "noise                                              0\n",
              "traffic_congestion                                 0\n",
              "maximum_number_of_vehicles_in_the_traffic_jam    180\n",
              "dtype: int64"
            ]
          },
          "metadata": {},
          "execution_count": 53
        }
      ]
    },
    {
      "cell_type": "code",
      "source": [
        "#Sustituir valores nulos por un string en concreto\n",
        "data1[\"plates\"]=data1[\"plates\"].fillna(\"Placas no registradas\")\n",
        "#Este método fue utilizado para llenar las celdas vacías dentro del dataframe por medio de un valor alfanumérico específico (string), ya\n",
        "#que la columna no contiene algún valor numérico."
      ],
      "metadata": {
        "id": "1N3F3x44dJSr"
      },
      "execution_count": 54,
      "outputs": []
    },
    {
      "cell_type": "code",
      "source": [
        "#Corroboramos valores nulos\n",
        "valores_nulos=data1.isnull().sum()\n",
        "valores_nulos"
      ],
      "metadata": {
        "colab": {
          "base_uri": "https://localhost:8080/"
        },
        "id": "R5yU9JEhdSgP",
        "outputId": "7ec529d7-680f-4c21-9036-8926907f1e8d"
      },
      "execution_count": 55,
      "outputs": [
        {
          "output_type": "execute_result",
          "data": {
            "text/plain": [
              "_record_id                                         0\n",
              "_title                                             0\n",
              "_server_updated_at                                 0\n",
              "_updated_by                                        0\n",
              "_geometry                                          0\n",
              "_latitude                                          0\n",
              "_longitude                                         0\n",
              "arrival_of_the_freight_vehicle                     0\n",
              "plates                                             0\n",
              "company_if_visible                                73\n",
              "visit_purpose                                      0\n",
              "type_of_vehicle                                    0\n",
              "number_of_operators                                0\n",
              "refrigerated_truck                                 0\n",
              "type_of_cargo                                      0\n",
              "picture_of_the_parked_freight_vehicle              0\n",
              "departure_of_the_freight_vehicle                   0\n",
              "where_was_the_vehicle_parked                       0\n",
              "while_parked_was_the_engine_running                0\n",
              "used_traffic_cone                                  0\n",
              "vehicles_unloading_door                            0\n",
              "number_of_available_trolleys                       0\n",
              "serving_customer                                 147\n",
              "garage_blocking                                    0\n",
              "accident                                           0\n",
              "describe_the_accident                            182\n",
              "noise                                              0\n",
              "traffic_congestion                                 0\n",
              "maximum_number_of_vehicles_in_the_traffic_jam    180\n",
              "dtype: int64"
            ]
          },
          "metadata": {},
          "execution_count": 55
        }
      ]
    },
    {
      "cell_type": "code",
      "source": [
        "#Sustituir valores nulos por un string en concreto\n",
        "data1[\"company_if_visible\"]=data1[\"company_if_visible\"].fillna(\"No visible\")\n",
        "#Este método fue utilizado para llenar las celdas vacías dentro del dataframe por medio de un valor alfanumérico específico (string), ya\n",
        "#que la columna no contiene algún valor numérico."
      ],
      "metadata": {
        "id": "_mYbdhshdatW"
      },
      "execution_count": 56,
      "outputs": []
    },
    {
      "cell_type": "code",
      "source": [
        "#Corroboramos valores nulos\n",
        "valores_nulos=data1.isnull().sum()\n",
        "valores_nulos"
      ],
      "metadata": {
        "colab": {
          "base_uri": "https://localhost:8080/"
        },
        "id": "_1OyTaKPdoST",
        "outputId": "d9910191-6671-4c63-82f2-94439a67d7fd"
      },
      "execution_count": 57,
      "outputs": [
        {
          "output_type": "execute_result",
          "data": {
            "text/plain": [
              "_record_id                                         0\n",
              "_title                                             0\n",
              "_server_updated_at                                 0\n",
              "_updated_by                                        0\n",
              "_geometry                                          0\n",
              "_latitude                                          0\n",
              "_longitude                                         0\n",
              "arrival_of_the_freight_vehicle                     0\n",
              "plates                                             0\n",
              "company_if_visible                                 0\n",
              "visit_purpose                                      0\n",
              "type_of_vehicle                                    0\n",
              "number_of_operators                                0\n",
              "refrigerated_truck                                 0\n",
              "type_of_cargo                                      0\n",
              "picture_of_the_parked_freight_vehicle              0\n",
              "departure_of_the_freight_vehicle                   0\n",
              "where_was_the_vehicle_parked                       0\n",
              "while_parked_was_the_engine_running                0\n",
              "used_traffic_cone                                  0\n",
              "vehicles_unloading_door                            0\n",
              "number_of_available_trolleys                       0\n",
              "serving_customer                                 147\n",
              "garage_blocking                                    0\n",
              "accident                                           0\n",
              "describe_the_accident                            182\n",
              "noise                                              0\n",
              "traffic_congestion                                 0\n",
              "maximum_number_of_vehicles_in_the_traffic_jam    180\n",
              "dtype: int64"
            ]
          },
          "metadata": {},
          "execution_count": 57
        }
      ]
    },
    {
      "cell_type": "code",
      "source": [
        "#Sustituir valores nulos por un string en concreto\n",
        "data1[\"serving_customer\"]=data1[\"serving_customer\"].fillna(\"NA\")\n",
        "#Este método fue utilizado para llenar las celdas vacías dentro del dataframe por medio de un valor alfanumérico específico (string), ya\n",
        "#que la columna no contiene algún valor numérico."
      ],
      "metadata": {
        "id": "O8on8lHmd36Z"
      },
      "execution_count": 58,
      "outputs": []
    },
    {
      "cell_type": "code",
      "source": [
        "#Corroboramos valores nulos\n",
        "valores_nulos=data1.isnull().sum()\n",
        "valores_nulos"
      ],
      "metadata": {
        "colab": {
          "base_uri": "https://localhost:8080/"
        },
        "id": "0dFbRtzgeAN1",
        "outputId": "9749f4db-94f4-4b56-b241-139cae802fef"
      },
      "execution_count": 59,
      "outputs": [
        {
          "output_type": "execute_result",
          "data": {
            "text/plain": [
              "_record_id                                         0\n",
              "_title                                             0\n",
              "_server_updated_at                                 0\n",
              "_updated_by                                        0\n",
              "_geometry                                          0\n",
              "_latitude                                          0\n",
              "_longitude                                         0\n",
              "arrival_of_the_freight_vehicle                     0\n",
              "plates                                             0\n",
              "company_if_visible                                 0\n",
              "visit_purpose                                      0\n",
              "type_of_vehicle                                    0\n",
              "number_of_operators                                0\n",
              "refrigerated_truck                                 0\n",
              "type_of_cargo                                      0\n",
              "picture_of_the_parked_freight_vehicle              0\n",
              "departure_of_the_freight_vehicle                   0\n",
              "where_was_the_vehicle_parked                       0\n",
              "while_parked_was_the_engine_running                0\n",
              "used_traffic_cone                                  0\n",
              "vehicles_unloading_door                            0\n",
              "number_of_available_trolleys                       0\n",
              "serving_customer                                   0\n",
              "garage_blocking                                    0\n",
              "accident                                           0\n",
              "describe_the_accident                            182\n",
              "noise                                              0\n",
              "traffic_congestion                                 0\n",
              "maximum_number_of_vehicles_in_the_traffic_jam    180\n",
              "dtype: int64"
            ]
          },
          "metadata": {},
          "execution_count": 59
        }
      ]
    },
    {
      "cell_type": "code",
      "source": [
        "#Sustituir valores nulos por un string en concreto\n",
        "data1[\"describe_the_accident\"]=data1[\"describe_the_accident\"].fillna(\"Sin accidentes\")\n",
        "#Este método fue utilizado para llenar las celdas vacías dentro del dataframe por medio de un valor alfanumérico específico (string), ya\n",
        "#que la columna no contiene algún valor numérico."
      ],
      "metadata": {
        "id": "fgLPCzXqeHgW"
      },
      "execution_count": 60,
      "outputs": []
    },
    {
      "cell_type": "code",
      "source": [
        "#Corroboramos valores nulos\n",
        "valores_nulos=data1.isnull().sum()\n",
        "valores_nulos"
      ],
      "metadata": {
        "colab": {
          "base_uri": "https://localhost:8080/"
        },
        "id": "xW16FZUiePgy",
        "outputId": "842775c1-d22c-4ac3-d64d-52fb490916ad"
      },
      "execution_count": 61,
      "outputs": [
        {
          "output_type": "execute_result",
          "data": {
            "text/plain": [
              "_record_id                                         0\n",
              "_title                                             0\n",
              "_server_updated_at                                 0\n",
              "_updated_by                                        0\n",
              "_geometry                                          0\n",
              "_latitude                                          0\n",
              "_longitude                                         0\n",
              "arrival_of_the_freight_vehicle                     0\n",
              "plates                                             0\n",
              "company_if_visible                                 0\n",
              "visit_purpose                                      0\n",
              "type_of_vehicle                                    0\n",
              "number_of_operators                                0\n",
              "refrigerated_truck                                 0\n",
              "type_of_cargo                                      0\n",
              "picture_of_the_parked_freight_vehicle              0\n",
              "departure_of_the_freight_vehicle                   0\n",
              "where_was_the_vehicle_parked                       0\n",
              "while_parked_was_the_engine_running                0\n",
              "used_traffic_cone                                  0\n",
              "vehicles_unloading_door                            0\n",
              "number_of_available_trolleys                       0\n",
              "serving_customer                                   0\n",
              "garage_blocking                                    0\n",
              "accident                                           0\n",
              "describe_the_accident                              0\n",
              "noise                                              0\n",
              "traffic_congestion                                 0\n",
              "maximum_number_of_vehicles_in_the_traffic_jam    180\n",
              "dtype: int64"
            ]
          },
          "metadata": {},
          "execution_count": 61
        }
      ]
    },
    {
      "cell_type": "code",
      "source": [
        "#Sustituir valores nulos por un string en concreto\n",
        "data1[\"maximum_number_of_vehicles_in_the_traffic_jam\"]=data1[\"maximum_number_of_vehicles_in_the_traffic_jam\"].fillna(\"Ninguno\")\n",
        "#Este método fue utilizado para llenar las celdas vacías dentro del dataframe por medio de un valor alfanumérico específico (string), ya\n",
        "#que la columna no contiene algún valor numérico."
      ],
      "metadata": {
        "id": "X1Zr_b77eXco"
      },
      "execution_count": 62,
      "outputs": []
    },
    {
      "cell_type": "code",
      "source": [
        "#Corroboramos valores nulos\n",
        "valores_nulos=data1.isnull().sum()\n",
        "valores_nulos"
      ],
      "metadata": {
        "colab": {
          "base_uri": "https://localhost:8080/"
        },
        "id": "FRzE4-zZerh0",
        "outputId": "6af6a98a-d73c-42d2-9bb8-518364e5e2b2"
      },
      "execution_count": 63,
      "outputs": [
        {
          "output_type": "execute_result",
          "data": {
            "text/plain": [
              "_record_id                                       0\n",
              "_title                                           0\n",
              "_server_updated_at                               0\n",
              "_updated_by                                      0\n",
              "_geometry                                        0\n",
              "_latitude                                        0\n",
              "_longitude                                       0\n",
              "arrival_of_the_freight_vehicle                   0\n",
              "plates                                           0\n",
              "company_if_visible                               0\n",
              "visit_purpose                                    0\n",
              "type_of_vehicle                                  0\n",
              "number_of_operators                              0\n",
              "refrigerated_truck                               0\n",
              "type_of_cargo                                    0\n",
              "picture_of_the_parked_freight_vehicle            0\n",
              "departure_of_the_freight_vehicle                 0\n",
              "where_was_the_vehicle_parked                     0\n",
              "while_parked_was_the_engine_running              0\n",
              "used_traffic_cone                                0\n",
              "vehicles_unloading_door                          0\n",
              "number_of_available_trolleys                     0\n",
              "serving_customer                                 0\n",
              "garage_blocking                                  0\n",
              "accident                                         0\n",
              "describe_the_accident                            0\n",
              "noise                                            0\n",
              "traffic_congestion                               0\n",
              "maximum_number_of_vehicles_in_the_traffic_jam    0\n",
              "dtype: int64"
            ]
          },
          "metadata": {},
          "execution_count": 63
        }
      ]
    },
    {
      "cell_type": "code",
      "source": [
        "#Corroboramos valores nulos en todo el dataframe\n",
        "valores_nulos=data1.isnull().sum().sum()\n",
        "valores_nulos\n",
        "#se hace una última revisión en búsqueda de algún valor nulo que se pudo haber pasado por alto"
      ],
      "metadata": {
        "colab": {
          "base_uri": "https://localhost:8080/"
        },
        "id": "E-MdPKcGeyKU",
        "outputId": "571f8f35-260e-4440-f92c-751fead29157"
      },
      "execution_count": 64,
      "outputs": [
        {
          "output_type": "execute_result",
          "data": {
            "text/plain": [
              "0"
            ]
          },
          "metadata": {},
          "execution_count": 64
        }
      ]
    },
    {
      "cell_type": "markdown",
      "source": [
        "**OUTLIERS**\n"
      ],
      "metadata": {
        "id": "VjlHd484B10R"
      }
    },
    {
      "cell_type": "code",
      "source": [
        "#Realizamos diagrama de caja o bigote de cada columna del dataframe\n",
        "fig = plt.figure(figsize =(15,8))\n",
        "data1.plot(kind=\"box\", vert=False)\n",
        "plt.title(\"Valores Atípicos del Dataframe\")\n",
        "plt.show() #dibujamos el diagrama"
      ],
      "metadata": {
        "colab": {
          "base_uri": "https://localhost:8080/",
          "height": 299
        },
        "id": "KGUGovqzB38H",
        "outputId": "c1761150-d377-4b57-cbc7-e937633d0565"
      },
      "execution_count": 65,
      "outputs": [
        {
          "output_type": "display_data",
          "data": {
            "text/plain": [
              "<Figure size 1080x576 with 0 Axes>"
            ]
          },
          "metadata": {}
        },
        {
          "output_type": "display_data",
          "data": {
            "text/plain": [
              "<Figure size 432x288 with 1 Axes>"
            ],
            "image/png": "[encoded data removed]"
          },
          "metadata": {
            "needs_background": "light"
          }
        }
      ]
    },
    {
      "cell_type": "code",
      "source": [
        "#Método aplicando Cuartiles. Encuentro cuartiles 0.25 y 0.75\n",
        "y=data1[\"number_of_available_trolleys\"]\n",
        "\n",
        "percentile25=y.quantile(0.25) #Q1\n",
        "percentile75=y.quantile(0.75) #Q2\n",
        "iqr= percentile75 - percentile25\n",
        "\n",
        "Limite_Superior_iqr= percentile75 + 1.5*iqr\n",
        "Limite_Inferior_iqr= percentile25 - 1.5*iqr\n",
        "print(\"Limite superior permitido\", Limite_Superior_iqr)\n",
        "print(\"Limite inferior permitido\", Limite_Inferior_iqr)"
      ],
      "metadata": {
        "colab": {
          "base_uri": "https://localhost:8080/"
        },
        "id": "KsAuMwaJCYo9",
        "outputId": "c27ef527-dc78-4169-9b40-2633cafd7dc7"
      },
      "execution_count": 66,
      "outputs": [
        {
          "output_type": "stream",
          "name": "stdout",
          "text": [
            "Limite superior permitido 2.5\n",
            "Limite inferior permitido -1.5\n"
          ]
        }
      ]
    },
    {
      "cell_type": "code",
      "source": [
        "#Encontramos Outliers\n",
        "outliers_iqr= data1[(y>Limite_Superior_iqr)|(y<Limite_Inferior_iqr)]\n",
        "outliers_iqr"
      ],
      "metadata": {
        "id": "nGPjG4xtCf0H"
      },
      "execution_count": null,
      "outputs": []
    },
    {
      "cell_type": "code",
      "source": [
        "#Obtenemos datos limpios\n",
        "data_clean_iqr= data1[(y<=Limite_Superior_iqr)&(y>=Limite_Inferior_iqr)]\n",
        "data_clean_iqr"
      ],
      "metadata": {
        "id": "AvBk6T32Cis3"
      },
      "execution_count": null,
      "outputs": []
    },
    {
      "cell_type": "code",
      "source": [
        "#Realizamos diagrama de caja o bigote\n",
        "fig= plt.figure(figsize =(5,3))\n",
        "plt.boxplot(data_clean_iqr[\"number_of_available_trolleys\"])\n",
        "plt.title(\"Outliers de numero de camiones disponibles\")\n",
        "plt.show() #dibujamos el diagrama"
      ],
      "metadata": {
        "colab": {
          "base_uri": "https://localhost:8080/",
          "height": 227
        },
        "id": "hP--nazdClql",
        "outputId": "4bff6c49-d255-4aee-c8a9-545e23684ec1"
      },
      "execution_count": 68,
      "outputs": [
        {
          "output_type": "display_data",
          "data": {
            "text/plain": [
              "<Figure size 360x216 with 1 Axes>"
            ],
            "image/png": "[encoded data removed]"
          },
          "metadata": {
            "needs_background": "light"
          }
        }
      ]
    },
    {
      "cell_type": "code",
      "source": [
        "#Método aplicando Cuartiles. Encuentro cuartiles 0.25 y 0.75\n",
        "y=data1[\"number_of_operators\"]\n",
        "\n",
        "percentile25=y.quantile(0.25) #Q1\n",
        "percentile75=y.quantile(0.75) #Q2\n",
        "iqr= percentile75 - percentile25\n",
        "\n",
        "Limite_Superior_iqr= percentile75 + 1.5*iqr\n",
        "Limite_Inferior_iqr= percentile25 - 1.5*iqr\n",
        "print(\"Limite superior permitido\", Limite_Superior_iqr)\n",
        "print(\"Limite inferior permitido\", Limite_Inferior_iqr)"
      ],
      "metadata": {
        "colab": {
          "base_uri": "https://localhost:8080/"
        },
        "id": "wT27YzztCuV1",
        "outputId": "aee3424b-8ea3-4604-f83c-314a6f9d1e7e"
      },
      "execution_count": 69,
      "outputs": [
        {
          "output_type": "stream",
          "name": "stdout",
          "text": [
            "Limite superior permitido 3.5\n",
            "Limite inferior permitido -0.5\n"
          ]
        }
      ]
    },
    {
      "cell_type": "code",
      "source": [
        "#Encontramos Outliers\n",
        "outliers_iqr= data1[(y>Limite_Superior_iqr)|(y<Limite_Inferior_iqr)]\n",
        "outliers_iqr"
      ],
      "metadata": {
        "id": "IGKazFwWC04U"
      },
      "execution_count": null,
      "outputs": []
    },
    {
      "cell_type": "code",
      "source": [
        "#Obtenemos datos limpios\n",
        "data_clean_iqr= data1[(y<=Limite_Superior_iqr)&(y>=Limite_Inferior_iqr)]\n",
        "data_clean_iqr"
      ],
      "metadata": {
        "id": "WrQiEB3xC3PQ"
      },
      "execution_count": null,
      "outputs": []
    },
    {
      "cell_type": "code",
      "source": [
        "#Realizamos diagrama de caja o bigote\n",
        "fig= plt.figure(figsize =(5,3))\n",
        "plt.boxplot(data_clean_iqr[\"number_of_operators\"])\n",
        "plt.title(\"Outliers de numero de operadores\")\n",
        "plt.show() #dibujamos el diagrama"
      ],
      "metadata": {
        "colab": {
          "base_uri": "https://localhost:8080/",
          "height": 227
        },
        "id": "yfWXJP3oC6Ob",
        "outputId": "dfc0de4d-55ca-436d-e8d3-24a89388186f"
      },
      "execution_count": 72,
      "outputs": [
        {
          "output_type": "display_data",
          "data": {
            "text/plain": [
              "<Figure size 360x216 with 1 Axes>"
            ],
            "image/png": "[encoded data removed]"
          },
          "metadata": {
            "needs_background": "light"
          }
        }
      ]
    },
    {
      "cell_type": "code",
      "source": [
        "#Convertir DataFrame a CSV\n",
        "data1.to_csv(\"Lastmile_delivery_operations_mit_lift_lab_datos_limpios.csv\")"
      ],
      "metadata": {
        "id": "70avp-6wDh1o"
      },
      "execution_count": 73,
      "outputs": []
    },
    {
      "cell_type": "code",
      "source": [
        "#descargar archivo filtrado en csv\n",
        "from google.colab import files\n",
        "\n",
        "files.download(\"Lastmile_delivery_operations_mit_lift_lab_datos_limpios.csv\")"
      ],
      "metadata": {
        "colab": {
          "base_uri": "https://localhost:8080/",
          "height": 17
        },
        "id": "xqMe7w1BDqpL",
        "outputId": "f1d5e8fe-653e-4762-de88-05a3f45dba4d"
      },
      "execution_count": 74,
      "outputs": [
        {
          "output_type": "display_data",
          "data": {
            "text/plain": [
              "<IPython.core.display.Javascript object>"
            ],
            "application/javascript": [
              "\n",
              "    async function download(id, filename, size) {\n",
              "      if (!google.colab.kernel.accessAllowed) {\n",
              "        return;\n",
              "      }\n",
              "      const div = document.createElement('div');\n",
              "      const label = document.createElement('label');\n",
              "      label.textContent = `Downloading \"${filename}\": `;\n",
              "      div.appendChild(label);\n",
              "      const progress = document.createElement('progress');\n",
              "      progress.max = size;\n",
              "      div.appendChild(progress);\n",
              "      document.body.appendChild(div);\n",
              "\n",
              "      const buffers = [];\n",
              "      let downloaded = 0;\n",
              "\n",
              "      const channel = await google.colab.kernel.comms.open(id);\n",
              "      // Send a message to notify the kernel that we're ready.\n",
              "      channel.send({})\n",
              "\n",
              "      for await (const message of channel.messages) {\n",
              "        // Send a message to notify the kernel that we're ready.\n",
              "        channel.send({})\n",
              "        if (message.buffers) {\n",
              "          for (const buffer of message.buffers) {\n",
              "            buffers.push(buffer);\n",
              "            downloaded += buffer.byteLength;\n",
              "            progress.value = downloaded;\n",
              "          }\n",
              "        }\n",
              "      }\n",
              "      const blob = new Blob(buffers, {type: 'application/binary'});\n",
              "      const a = document.createElement('a');\n",
              "      a.href = window.URL.createObjectURL(blob);\n",
              "      a.download = filename;\n",
              "      div.appendChild(a);\n",
              "      a.click();\n",
              "      div.remove();\n",
              "    }\n",
              "  "
            ]
          },
          "metadata": {}
        },
        {
          "output_type": "display_data",
          "data": {
            "text/plain": [
              "<IPython.core.display.Javascript object>"
            ],
            "application/javascript": [
              "download(\"download_9e304b66-a586-4b6b-9527-2940af9ee1a5\", \"Lastmile_delivery_operations_mit_lift_lab_datos_limpios.csv\", 89695)"
            ]
          },
          "metadata": {}
        }
      ]
    }
  ]
}